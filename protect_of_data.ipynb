{
  "nbformat": 4,
  "nbformat_minor": 0,
  "metadata": {
    "kernelspec": {
      "display_name": "Python 3",
      "language": "python",
      "name": "python3"
    },
    "language_info": {
      "codemirror_mode": {
        "name": "ipython",
        "version": 3
      },
      "file_extension": ".py",
      "mimetype": "text/x-python",
      "name": "python",
      "nbconvert_exporter": "python",
      "pygments_lexer": "ipython3",
      "version": "3.7.6"
    },
    "colab": {
      "name": "protect_of_data.ipynb",
      "provenance": []
    }
  },
  "cells": [
    {
      "cell_type": "markdown",
      "metadata": {
        "id": "prClEwtAUGxx"
      },
      "source": [
        "Нужно защитить данные клиентов страховой компании. Разработать такой метод преобразования данных, чтобы по ним было сложно восстановить персональную информацию. Обоснуем корректность его работы.\n",
        "\n",
        "Нужно защитить данные, чтобы при преобразовании качество моделей машинного обучения не ухудшилось."
      ]
    },
    {
      "cell_type": "markdown",
      "metadata": {
        "id": "89ISMQL2UGx1"
      },
      "source": [
        "**Описание данных**\n",
        "\n",
        "Признаки: \n",
        "\n",
        "    пол\n",
        "    возраст\n",
        "    зарплата застрахованного\n",
        "    количество членов его семьи\n",
        "\n",
        "\n",
        "Целевой признак: \n",
        "\n",
        "    количество страховых выплат клиенту за последние 5 лет"
      ]
    },
    {
      "cell_type": "markdown",
      "metadata": {
        "id": "02heZa5gUGx3"
      },
      "source": [
        "## 1. Загрузка данных"
      ]
    },
    {
      "cell_type": "code",
      "metadata": {
        "id": "j4NEqyeaUGx4"
      },
      "source": [
        "import pandas as pd\n",
        "import numpy as np\n",
        "import seaborn\n",
        "import matplotlib.pyplot as plt\n",
        "from IPython.display import display\n",
        "from sklearn.model_selection import train_test_split\n",
        "from sklearn.preprocessing import StandardScaler\n",
        "from sklearn.metrics import confusion_matrix, recall_score, precision_score, f1_score, roc_curve, roc_auc_score, accuracy_score\n",
        "from sklearn.utils import shuffle\n",
        "from sklearn.metrics import mean_squared_error\n",
        "from sklearn.metrics import mean_absolute_error\n",
        "from scipy import stats as st\n",
        "from sklearn.model_selection import cross_val_score\n",
        "from sklearn.metrics import make_scorer\n",
        "from sklearn.linear_model import LinearRegression\n",
        "from sklearn.metrics import r2_score"
      ],
      "execution_count": null,
      "outputs": []
    },
    {
      "cell_type": "markdown",
      "metadata": {
        "id": "dhWNMH3eUGx9"
      },
      "source": [
        "Загрузим и посмотрим на данные"
      ]
    },
    {
      "cell_type": "code",
      "metadata": {
        "id": "Upu9lJeUUGx-"
      },
      "source": [
        "data = pd.read_csv('/datasets/insurance.csv')"
      ],
      "execution_count": null,
      "outputs": []
    },
    {
      "cell_type": "code",
      "metadata": {
        "id": "nrmaiUpTUGx_",
        "outputId": "e0d428ba-d750-40f6-c52f-513f6cbe6cb4"
      },
      "source": [
        "data.head(3)"
      ],
      "execution_count": null,
      "outputs": [
        {
          "data": {
            "text/html": [
              "<div>\n",
              "<style scoped>\n",
              "    .dataframe tbody tr th:only-of-type {\n",
              "        vertical-align: middle;\n",
              "    }\n",
              "\n",
              "    .dataframe tbody tr th {\n",
              "        vertical-align: top;\n",
              "    }\n",
              "\n",
              "    .dataframe thead th {\n",
              "        text-align: right;\n",
              "    }\n",
              "</style>\n",
              "<table border=\"1\" class=\"dataframe\">\n",
              "  <thead>\n",
              "    <tr style=\"text-align: right;\">\n",
              "      <th></th>\n",
              "      <th>Пол</th>\n",
              "      <th>Возраст</th>\n",
              "      <th>Зарплата</th>\n",
              "      <th>Члены семьи</th>\n",
              "      <th>Страховые выплаты</th>\n",
              "    </tr>\n",
              "  </thead>\n",
              "  <tbody>\n",
              "    <tr>\n",
              "      <td>0</td>\n",
              "      <td>1</td>\n",
              "      <td>41.0</td>\n",
              "      <td>49600.0</td>\n",
              "      <td>1</td>\n",
              "      <td>0</td>\n",
              "    </tr>\n",
              "    <tr>\n",
              "      <td>1</td>\n",
              "      <td>0</td>\n",
              "      <td>46.0</td>\n",
              "      <td>38000.0</td>\n",
              "      <td>1</td>\n",
              "      <td>1</td>\n",
              "    </tr>\n",
              "    <tr>\n",
              "      <td>2</td>\n",
              "      <td>0</td>\n",
              "      <td>29.0</td>\n",
              "      <td>21000.0</td>\n",
              "      <td>0</td>\n",
              "      <td>0</td>\n",
              "    </tr>\n",
              "  </tbody>\n",
              "</table>\n",
              "</div>"
            ],
            "text/plain": [
              "   Пол  Возраст  Зарплата  Члены семьи  Страховые выплаты\n",
              "0    1     41.0   49600.0            1                  0\n",
              "1    0     46.0   38000.0            1                  1\n",
              "2    0     29.0   21000.0            0                  0"
            ]
          },
          "execution_count": 3,
          "metadata": {},
          "output_type": "execute_result"
        }
      ]
    },
    {
      "cell_type": "code",
      "metadata": {
        "id": "LWcOgpC2UGyA",
        "outputId": "f80f9a10-fbec-4e21-c74a-5132bd12b11e"
      },
      "source": [
        "data.info()"
      ],
      "execution_count": null,
      "outputs": [
        {
          "name": "stdout",
          "output_type": "stream",
          "text": [
            "<class 'pandas.core.frame.DataFrame'>\n",
            "RangeIndex: 5000 entries, 0 to 4999\n",
            "Data columns (total 5 columns):\n",
            "Пол                  5000 non-null int64\n",
            "Возраст              5000 non-null float64\n",
            "Зарплата             5000 non-null float64\n",
            "Члены семьи          5000 non-null int64\n",
            "Страховые выплаты    5000 non-null int64\n",
            "dtypes: float64(2), int64(3)\n",
            "memory usage: 195.4 KB\n"
          ]
        }
      ]
    },
    {
      "cell_type": "markdown",
      "metadata": {
        "id": "6noaOOSxUGyB"
      },
      "source": [
        "Пропусков в данных нет.\n",
        "\n",
        "Признаки носят названия на кириллице, для удобства заменим их на аналоги латинницы.\n",
        "\n",
        "2 признака - возраст и зар.плата имеют тип float, посмотрим критично ли переводить их в тип данных int, для экономии памяти и ускорения рабочего процесса."
      ]
    },
    {
      "cell_type": "code",
      "metadata": {
        "id": "Zxu1c7tqUGyC",
        "outputId": "e1bf3e1a-6d70-4601-b27c-aef81216e337"
      },
      "source": [
        "data = data.rename(columns={\"Пол\": \"gender\", \"Возраст\": \"age\", \"Зарплата\": \"salary\",\"Члены семьи\": \"family_numb\",\"Страховые выплаты\": \"risk\"})\n",
        "data.head(2)"
      ],
      "execution_count": null,
      "outputs": [
        {
          "data": {
            "text/html": [
              "<div>\n",
              "<style scoped>\n",
              "    .dataframe tbody tr th:only-of-type {\n",
              "        vertical-align: middle;\n",
              "    }\n",
              "\n",
              "    .dataframe tbody tr th {\n",
              "        vertical-align: top;\n",
              "    }\n",
              "\n",
              "    .dataframe thead th {\n",
              "        text-align: right;\n",
              "    }\n",
              "</style>\n",
              "<table border=\"1\" class=\"dataframe\">\n",
              "  <thead>\n",
              "    <tr style=\"text-align: right;\">\n",
              "      <th></th>\n",
              "      <th>gender</th>\n",
              "      <th>age</th>\n",
              "      <th>salary</th>\n",
              "      <th>family_numb</th>\n",
              "      <th>risk</th>\n",
              "    </tr>\n",
              "  </thead>\n",
              "  <tbody>\n",
              "    <tr>\n",
              "      <td>0</td>\n",
              "      <td>1</td>\n",
              "      <td>41.0</td>\n",
              "      <td>49600.0</td>\n",
              "      <td>1</td>\n",
              "      <td>0</td>\n",
              "    </tr>\n",
              "    <tr>\n",
              "      <td>1</td>\n",
              "      <td>0</td>\n",
              "      <td>46.0</td>\n",
              "      <td>38000.0</td>\n",
              "      <td>1</td>\n",
              "      <td>1</td>\n",
              "    </tr>\n",
              "  </tbody>\n",
              "</table>\n",
              "</div>"
            ],
            "text/plain": [
              "   gender   age   salary  family_numb  risk\n",
              "0       1  41.0  49600.0            1     0\n",
              "1       0  46.0  38000.0            1     1"
            ]
          },
          "execution_count": 5,
          "metadata": {},
          "output_type": "execute_result"
        }
      ]
    },
    {
      "cell_type": "markdown",
      "metadata": {
        "id": "bYe8IM_3UGyD"
      },
      "source": [
        "Чтобы убедиться, что после запятой нет знака, кроме 0, и мы имеем дело только с целыми числами - просуммируем все значения и тогда увидим все ли числа целые."
      ]
    },
    {
      "cell_type": "code",
      "metadata": {
        "id": "UJYnI2YqUGyD",
        "outputId": "22efc970-5d1c-4feb-ea9d-a88b2db08cb7"
      },
      "source": [
        "data['age'].sum()"
      ],
      "execution_count": null,
      "outputs": [
        {
          "data": {
            "text/plain": [
              "154764.0"
            ]
          },
          "execution_count": 6,
          "metadata": {},
          "output_type": "execute_result"
        }
      ]
    },
    {
      "cell_type": "code",
      "metadata": {
        "id": "ZbTdMsOCUGyE",
        "outputId": "3a3e4c1b-1571-48bf-9ee8-5bcf215e687a"
      },
      "source": [
        "data['age'].value_counts()"
      ],
      "execution_count": null,
      "outputs": [
        {
          "data": {
            "text/plain": [
              "19.0    223\n",
              "25.0    214\n",
              "31.0    212\n",
              "26.0    211\n",
              "22.0    209\n",
              "27.0    209\n",
              "32.0    206\n",
              "28.0    204\n",
              "29.0    203\n",
              "30.0    202\n",
              "23.0    202\n",
              "21.0    200\n",
              "20.0    195\n",
              "36.0    193\n",
              "33.0    191\n",
              "24.0    182\n",
              "35.0    179\n",
              "34.0    177\n",
              "37.0    147\n",
              "39.0    141\n",
              "38.0    139\n",
              "41.0    129\n",
              "18.0    117\n",
              "40.0    114\n",
              "42.0     93\n",
              "43.0     77\n",
              "44.0     74\n",
              "45.0     73\n",
              "46.0     60\n",
              "47.0     47\n",
              "49.0     37\n",
              "50.0     27\n",
              "48.0     26\n",
              "52.0     22\n",
              "51.0     21\n",
              "53.0     11\n",
              "55.0      9\n",
              "54.0      7\n",
              "56.0      5\n",
              "59.0      3\n",
              "60.0      2\n",
              "58.0      2\n",
              "57.0      2\n",
              "62.0      1\n",
              "65.0      1\n",
              "61.0      1\n",
              "Name: age, dtype: int64"
            ]
          },
          "execution_count": 7,
          "metadata": {},
          "output_type": "execute_result"
        }
      ]
    },
    {
      "cell_type": "markdown",
      "metadata": {
        "id": "yL2zAkbZUGyF"
      },
      "source": [
        "признак возраст смело переведем в тип int."
      ]
    },
    {
      "cell_type": "code",
      "metadata": {
        "id": "7Xy5tfFHUGyF",
        "outputId": "620b8879-d2d9-4cdd-ac0c-1a60e255969d"
      },
      "source": [
        "data['salary'].sum()"
      ],
      "execution_count": null,
      "outputs": [
        {
          "data": {
            "text/plain": [
              "199581800.0"
            ]
          },
          "execution_count": 8,
          "metadata": {},
          "output_type": "execute_result"
        }
      ]
    },
    {
      "cell_type": "markdown",
      "metadata": {
        "id": "SxGi_oGSUGyG"
      },
      "source": [
        "зар.плату также можем перевести в признак int, копейки не имеют смысла.\n"
      ]
    },
    {
      "cell_type": "code",
      "metadata": {
        "id": "KvHoOkzhUGyH"
      },
      "source": [
        "data['age'] = data['age'].astype('int')"
      ],
      "execution_count": null,
      "outputs": []
    },
    {
      "cell_type": "code",
      "metadata": {
        "id": "DP2umGMxUGyH"
      },
      "source": [
        "data['salary'] = data['salary'].astype('int')"
      ],
      "execution_count": null,
      "outputs": []
    },
    {
      "cell_type": "code",
      "metadata": {
        "id": "xdRORlqZUGyI",
        "outputId": "903bdc3b-c673-4913-be9e-1eebedfdcbe4"
      },
      "source": [
        "data.info()"
      ],
      "execution_count": null,
      "outputs": [
        {
          "name": "stdout",
          "output_type": "stream",
          "text": [
            "<class 'pandas.core.frame.DataFrame'>\n",
            "RangeIndex: 5000 entries, 0 to 4999\n",
            "Data columns (total 5 columns):\n",
            "gender         5000 non-null int64\n",
            "age            5000 non-null int64\n",
            "salary         5000 non-null int64\n",
            "family_numb    5000 non-null int64\n",
            "risk           5000 non-null int64\n",
            "dtypes: int64(5)\n",
            "memory usage: 195.4 KB\n"
          ]
        }
      ]
    },
    {
      "cell_type": "markdown",
      "metadata": {
        "id": "AkW8qiMvUGyI"
      },
      "source": [
        "Далее поищем задваивания и дубликаты.\n"
      ]
    },
    {
      "cell_type": "code",
      "metadata": {
        "id": "fbfWlvYDUGyK",
        "outputId": "cff13659-b191-45e6-a08c-ebfe8349e781"
      },
      "source": [
        "data.duplicated().sum()"
      ],
      "execution_count": null,
      "outputs": [
        {
          "data": {
            "text/plain": [
              "153"
            ]
          },
          "execution_count": 12,
          "metadata": {},
          "output_type": "execute_result"
        }
      ]
    },
    {
      "cell_type": "code",
      "metadata": {
        "id": "ooBddlxqUGyL",
        "outputId": "758bb6a3-2856-445f-a42a-d9baef2ac6d1"
      },
      "source": [
        "data.duplicated().sum() * 100 / len(data)"
      ],
      "execution_count": null,
      "outputs": [
        {
          "data": {
            "text/plain": [
              "3.06"
            ]
          },
          "execution_count": 13,
          "metadata": {},
          "output_type": "execute_result"
        }
      ]
    },
    {
      "cell_type": "markdown",
      "metadata": {
        "id": "cTyko83AUGyL"
      },
      "source": [
        "3% дубликатов, они нам ни к чему, удалим. 3% - капля в море, можем удалить."
      ]
    },
    {
      "cell_type": "code",
      "metadata": {
        "id": "pYPQrdHyUGyM"
      },
      "source": [
        "data = data.drop_duplicates().reset_index(drop=True)"
      ],
      "execution_count": null,
      "outputs": []
    },
    {
      "cell_type": "code",
      "metadata": {
        "id": "qz0LlbiJUGyM",
        "outputId": "7206d0c2-b201-41d8-b55d-71e2fbde6321"
      },
      "source": [
        "data.info()"
      ],
      "execution_count": null,
      "outputs": [
        {
          "name": "stdout",
          "output_type": "stream",
          "text": [
            "<class 'pandas.core.frame.DataFrame'>\n",
            "RangeIndex: 4847 entries, 0 to 4846\n",
            "Data columns (total 5 columns):\n",
            "gender         4847 non-null int64\n",
            "age            4847 non-null int64\n",
            "salary         4847 non-null int64\n",
            "family_numb    4847 non-null int64\n",
            "risk           4847 non-null int64\n",
            "dtypes: int64(5)\n",
            "memory usage: 189.5 KB\n"
          ]
        }
      ]
    },
    {
      "cell_type": "code",
      "metadata": {
        "id": "fwljlVtLUGyN",
        "outputId": "f17ba874-157a-42fc-9c82-8affc4a87770"
      },
      "source": [
        "data.tail(3)"
      ],
      "execution_count": null,
      "outputs": [
        {
          "data": {
            "text/html": [
              "<div>\n",
              "<style scoped>\n",
              "    .dataframe tbody tr th:only-of-type {\n",
              "        vertical-align: middle;\n",
              "    }\n",
              "\n",
              "    .dataframe tbody tr th {\n",
              "        vertical-align: top;\n",
              "    }\n",
              "\n",
              "    .dataframe thead th {\n",
              "        text-align: right;\n",
              "    }\n",
              "</style>\n",
              "<table border=\"1\" class=\"dataframe\">\n",
              "  <thead>\n",
              "    <tr style=\"text-align: right;\">\n",
              "      <th></th>\n",
              "      <th>gender</th>\n",
              "      <th>age</th>\n",
              "      <th>salary</th>\n",
              "      <th>family_numb</th>\n",
              "      <th>risk</th>\n",
              "    </tr>\n",
              "  </thead>\n",
              "  <tbody>\n",
              "    <tr>\n",
              "      <td>4844</td>\n",
              "      <td>0</td>\n",
              "      <td>20</td>\n",
              "      <td>33900</td>\n",
              "      <td>2</td>\n",
              "      <td>0</td>\n",
              "    </tr>\n",
              "    <tr>\n",
              "      <td>4845</td>\n",
              "      <td>1</td>\n",
              "      <td>22</td>\n",
              "      <td>32700</td>\n",
              "      <td>3</td>\n",
              "      <td>0</td>\n",
              "    </tr>\n",
              "    <tr>\n",
              "      <td>4846</td>\n",
              "      <td>1</td>\n",
              "      <td>28</td>\n",
              "      <td>40600</td>\n",
              "      <td>1</td>\n",
              "      <td>0</td>\n",
              "    </tr>\n",
              "  </tbody>\n",
              "</table>\n",
              "</div>"
            ],
            "text/plain": [
              "      gender  age  salary  family_numb  risk\n",
              "4844       0   20   33900            2     0\n",
              "4845       1   22   32700            3     0\n",
              "4846       1   28   40600            1     0"
            ]
          },
          "execution_count": 16,
          "metadata": {},
          "output_type": "execute_result"
        }
      ]
    },
    {
      "cell_type": "markdown",
      "metadata": {
        "id": "0D7ZxcZrUGyQ"
      },
      "source": [
        "Далее подготовим features and target из исходного датасета"
      ]
    },
    {
      "cell_type": "code",
      "metadata": {
        "id": "p1lvOezZUGyQ"
      },
      "source": [
        "features = data.drop(['risk'], axis =1)"
      ],
      "execution_count": null,
      "outputs": []
    },
    {
      "cell_type": "code",
      "metadata": {
        "id": "2G8RCNEMUGyR",
        "outputId": "06a5fdcd-72d5-46ec-b821-a7739b9b4f2f"
      },
      "source": [
        "features.head(2)"
      ],
      "execution_count": null,
      "outputs": [
        {
          "data": {
            "text/html": [
              "<div>\n",
              "<style scoped>\n",
              "    .dataframe tbody tr th:only-of-type {\n",
              "        vertical-align: middle;\n",
              "    }\n",
              "\n",
              "    .dataframe tbody tr th {\n",
              "        vertical-align: top;\n",
              "    }\n",
              "\n",
              "    .dataframe thead th {\n",
              "        text-align: right;\n",
              "    }\n",
              "</style>\n",
              "<table border=\"1\" class=\"dataframe\">\n",
              "  <thead>\n",
              "    <tr style=\"text-align: right;\">\n",
              "      <th></th>\n",
              "      <th>gender</th>\n",
              "      <th>age</th>\n",
              "      <th>salary</th>\n",
              "      <th>family_numb</th>\n",
              "    </tr>\n",
              "  </thead>\n",
              "  <tbody>\n",
              "    <tr>\n",
              "      <td>0</td>\n",
              "      <td>1</td>\n",
              "      <td>41</td>\n",
              "      <td>49600</td>\n",
              "      <td>1</td>\n",
              "    </tr>\n",
              "    <tr>\n",
              "      <td>1</td>\n",
              "      <td>0</td>\n",
              "      <td>46</td>\n",
              "      <td>38000</td>\n",
              "      <td>1</td>\n",
              "    </tr>\n",
              "  </tbody>\n",
              "</table>\n",
              "</div>"
            ],
            "text/plain": [
              "   gender  age  salary  family_numb\n",
              "0       1   41   49600            1\n",
              "1       0   46   38000            1"
            ]
          },
          "execution_count": 18,
          "metadata": {},
          "output_type": "execute_result"
        }
      ]
    },
    {
      "cell_type": "code",
      "metadata": {
        "id": "x9aXCIv6UGyS"
      },
      "source": [
        "target = data[['risk']]"
      ],
      "execution_count": null,
      "outputs": []
    },
    {
      "cell_type": "code",
      "metadata": {
        "id": "LAW-WMI3UGyT",
        "outputId": "97475ee3-68ce-4be7-b0da-e58d4b29753f"
      },
      "source": [
        "target.head(2)"
      ],
      "execution_count": null,
      "outputs": [
        {
          "data": {
            "text/html": [
              "<div>\n",
              "<style scoped>\n",
              "    .dataframe tbody tr th:only-of-type {\n",
              "        vertical-align: middle;\n",
              "    }\n",
              "\n",
              "    .dataframe tbody tr th {\n",
              "        vertical-align: top;\n",
              "    }\n",
              "\n",
              "    .dataframe thead th {\n",
              "        text-align: right;\n",
              "    }\n",
              "</style>\n",
              "<table border=\"1\" class=\"dataframe\">\n",
              "  <thead>\n",
              "    <tr style=\"text-align: right;\">\n",
              "      <th></th>\n",
              "      <th>risk</th>\n",
              "    </tr>\n",
              "  </thead>\n",
              "  <tbody>\n",
              "    <tr>\n",
              "      <td>0</td>\n",
              "      <td>0</td>\n",
              "    </tr>\n",
              "    <tr>\n",
              "      <td>1</td>\n",
              "      <td>1</td>\n",
              "    </tr>\n",
              "  </tbody>\n",
              "</table>\n",
              "</div>"
            ],
            "text/plain": [
              "   risk\n",
              "0     0\n",
              "1     1"
            ]
          },
          "execution_count": 20,
          "metadata": {},
          "output_type": "execute_result"
        }
      ]
    },
    {
      "cell_type": "markdown",
      "metadata": {
        "id": "AHdLtNvzUGyU"
      },
      "source": [
        "В этом шаге мы загрузили данные, ознакомились с ними, провели небольшую предобработку: заменили названия столбцов на более удобные для работы (как минимум лишний раз не нужно будет переключать раскладку клавиатуры), перевели 2 признака (возраст и уровень зар.платы) в тип данных int, нашли и удалили дубликаты.\n",
        "\n",
        "Подготовили обучающие признаки и отделили целевой признак."
      ]
    },
    {
      "cell_type": "markdown",
      "metadata": {
        "id": "D0FiVxTjUGyV"
      },
      "source": [
        "## 2. Умножение матриц"
      ]
    },
    {
      "cell_type": "markdown",
      "metadata": {
        "id": "0uVG03UYUGyV"
      },
      "source": [
        "Обозначения:\n",
        "\n",
        "- $X$ — матрица признаков (нулевой столбец состоит из единиц)\n",
        "\n",
        "- $y$ — вектор целевого признака\n",
        "\n",
        "- $P$ — матрица, на которую умножаются признаки\n",
        "\n",
        "- $w$ — вектор весов линейной регрессии (нулевой элемент равен сдвигу)"
      ]
    },
    {
      "cell_type": "markdown",
      "metadata": {
        "id": "Oi9aRyX-UGyW"
      },
      "source": [
        "Предсказания:\n",
        "\n",
        "$$\n",
        "a = Xw\n",
        "$$\n",
        "\n",
        "Задача обучения:\n",
        "\n",
        "$$\n",
        "w = \\arg\\min_w MSE(Xw, y)\n",
        "$$\n",
        "\n",
        "Формула обучения:\n",
        "\n",
        "$$\n",
        "w = (X^T X)^{-1} X^T y\n",
        "$$"
      ]
    },
    {
      "cell_type": "markdown",
      "metadata": {
        "id": "Ds0SEitiUGyW"
      },
      "source": [
        "**Ответ:** \n",
        "\n",
        "Основная наша задача - изменить данные таким образом, чтобы сторонний наблюдатель не получил от них информацию, но эти изменения не повлияли на предсказания линейной регрессии.\n",
        "\n",
        "Для этого мы попробуем доказать, что при умножении матрицы Х на обратимую матрицу Р, получаем новые значения\n",
        "\n",
        "(уже поэкспериментировал и увидел, что данные получаются весьма и совершенно иными - как-будто над ними поработала не одна Энигма,  можно ли их вычислить, если не знать матрицы Р?) \n",
        "\n",
        "отличные от значений первоначальной матрицы Х, меняются веса w, что потребует вычислить новые веса конечно. НО __предсказание не изменится__! То есть __а__ - предсказание линейной регрессии на первоначальной матрице Х __равно__ предсказаниям переобученной на новых данных после умножения матрицы Х на Р новой линейной регрессии, её предсказание - __а1__.\n",
        "\n",
        "\n",
        "\n",
        "**Обоснование:**\n",
        "\n",
        "Мы решили идти от обратного, и говорим, что  $а = а1$ , иначе - не равны.\n",
        "\n",
        "Пользуясь формулами выше преобразуем данные, вспомнив, что  $Х * (Х)^{-1} = Е$ , где Е - единичная матрица, запомним также следующие свойства -  $E * X = X$ и от перемены мест множителей произведение не меняется.\n",
        "\n",
        "$$\n",
        "Xw = XPw1\n",
        "$$\n",
        "\n",
        "        небольшое замечание для ясности:\n",
        "        a = Xw\n",
        "        a1 = XPw1\n",
        "\n",
        "$$\n",
        "X (X^T X)^{-1} X^T y = X P ((X P)^T (X P))^{-1} (X P)^T y\n",
        "$$\n",
        "\n",
        "$$\n",
        "X X^{-1} X^T (X^T)^{-1} y = (X P) (X P)^{-1} (X P)^T ((X P)^T)^{-1} y\n",
        "$$\n",
        "\n",
        "$$\n",
        "E E y = E E y\n",
        "$$\n",
        "\n",
        "$$\n",
        "y = y\n",
        "$$\n",
        "\n",
        "В результате мы получили верное равенство. "
      ]
    },
    {
      "cell_type": "markdown",
      "metadata": {
        "id": "FKjkhoOKUGyX"
      },
      "source": [
        "## 3. Алгоритм преобразования"
      ]
    },
    {
      "cell_type": "markdown",
      "metadata": {
        "id": "c8br7sLUUGyY"
      },
      "source": [
        "**Алгоритм**\n",
        "\n",
        "Если мы решим создавать свой класс линейной регрессии, то алгоритм будет слледующим:\n",
        "\n",
        "1. У класса будет 2 функции:\n",
        "          \n",
        "        1. fit - обучение, которая принимает тренировочную выборку и целевой признак,\n",
        "            преобразует тренировочную выборку в подходящую матрицу Х\n",
        "            и далее расчитывает w и w0.\n",
        "            \n",
        "        2. predict - прогноз, которая принимает тестовые данные и строит свой прогноз.\n",
        "        \n",
        "2. Обучим алгоритм на исходных данных, получим прогноз и рассчитаем r2_score.\n",
        "\n",
        "3. Преобразуем исходные данные умножением на обратимую матрицу P.\n",
        "\n",
        "4. Обучим новую модель на преобразованных данных, получим предикт на преобразованных данных, рассчитаем r2_score.\n",
        "\n",
        "5. Сравним обе метрики. Должны совпасть.\n",
        "        \n",
        "Все расчёты выполняются по формулам из шага №2"
      ]
    },
    {
      "cell_type": "markdown",
      "metadata": {
        "id": "9WA0zTq0UGyY"
      },
      "source": [
        "## 4. Проверка алгоритма"
      ]
    },
    {
      "cell_type": "markdown",
      "metadata": {
        "id": "VE5J-3y8UGyZ"
      },
      "source": [
        "Для работы мы будем использовать не только свой написанный алгоритм, но и проверим готовым алгоритмом линейной регрессии из библиотеки sklearn."
      ]
    },
    {
      "cell_type": "code",
      "metadata": {
        "id": "JkO9KEf6UGya"
      },
      "source": [
        "class MyLinearRegression:\n",
        "    def fit(self, train_features, train_target):\n",
        "        X = np.concatenate((np.ones((train_features.shape[0], 1)), train_features), axis=1)\n",
        "        y = train_target\n",
        "        w = np.linalg.inv(X.T.dot(X)).dot(X.T).dot(y)\n",
        "        \n",
        "        self.w = w[1:]\n",
        "        self.w0 = w[0]\n",
        "        \n",
        "    def predict(self, test_features):\n",
        "        return (test_features.dot(self.w) + self.w0)\n"
      ],
      "execution_count": null,
      "outputs": []
    },
    {
      "cell_type": "markdown",
      "metadata": {
        "id": "hOrK7DrDUGyb"
      },
      "source": [
        "Напишем функцию для получения обратимой матрицы P.\n",
        "\n",
        "        Генерировать случайную обратимую матрицу будем методом - numpy.random.normal()\n",
        "        \n",
        "        Необратимые матрицы встречаются редко. \n",
        "        Если сгенерировать случайную матрицу функцией numpy.random.normal(),\n",
        "        вероятность получить необратимую матрицу близка к нулю. Но не нулевая.\n",
        "        \n",
        "        Поэтому проверять, что она действительно обратимая, будем методом - numpy.linalg.inv()\n",
        "        Чтобы проверить - нам нужна будет отдельная функция.\n",
        "        Если функция необратимая, то в цикле будет сгенерирована новая матрица."
      ]
    },
    {
      "cell_type": "code",
      "metadata": {
        "id": "pFi4kl52UGyc"
      },
      "source": [
        "def get_p(features):\n",
        "    i = 0\n",
        "    while i == 0:\n",
        "        P = np.random.normal(size=(features.shape[1], features.shape[1]))\n",
        "        i = it_is_good(P)\n",
        "    return(P)"
      ],
      "execution_count": null,
      "outputs": []
    },
    {
      "cell_type": "markdown",
      "metadata": {
        "id": "auK4EtqkUGyc"
      },
      "source": [
        "Функция для проверки обратимости матрицы Р"
      ]
    },
    {
      "cell_type": "code",
      "metadata": {
        "id": "yaz2xTEOUGyd"
      },
      "source": [
        "def it_is_good(P):\n",
        "    try:\n",
        "        np.linalg.inv(P)\n",
        "        return(1)\n",
        "    except:\n",
        "        return(0)"
      ],
      "execution_count": null,
      "outputs": []
    },
    {
      "cell_type": "markdown",
      "metadata": {
        "id": "UVxbztJDUGyd"
      },
      "source": [
        "Т.к нам придётся несколько раз обучать модель, но только на разных выборках, то напишем функцию, которая автоматизирует это.\n",
        "\n",
        "На вход она берет только класс модели, тренировочную выборку, целевой признак и тестовую выборку, возвращает значение r2_score.\n",
        "\n",
        "            "
      ]
    },
    {
      "cell_type": "code",
      "metadata": {
        "id": "VawbjjQLUGye"
      },
      "source": [
        "def do_work_and_go_to_rest(model_type, features, target):\n",
        "    model = model_type\n",
        "    model.fit(features, target)\n",
        "    predictions = model.predict(features)\n",
        "    return(r2_score(target, predictions))"
      ],
      "execution_count": null,
      "outputs": []
    },
    {
      "cell_type": "markdown",
      "metadata": {
        "id": "ON-3ey1FUGye"
      },
      "source": [
        "__Приступим__"
      ]
    },
    {
      "cell_type": "code",
      "metadata": {
        "id": "tXQneQpYUGye",
        "outputId": "6b5f7076-5188-4347-8409-fd2e72408be9"
      },
      "source": [
        "r2_original = do_work_and_go_to_rest(MyLinearRegression(), features, target)\n",
        "r2_original"
      ],
      "execution_count": null,
      "outputs": [
        {
          "data": {
            "text/plain": [
              "0.4302010046633359"
            ]
          },
          "execution_count": 25,
          "metadata": {},
          "output_type": "execute_result"
        }
      ]
    },
    {
      "cell_type": "code",
      "metadata": {
        "id": "L7G19XYGUGyf",
        "outputId": "4602c496-e30b-4f6d-8b45-0094823f9877"
      },
      "source": [
        "r2_changed = do_work_and_go_to_rest(MyLinearRegression(), features.dot(get_p(features)), target)\n",
        "r2_changed"
      ],
      "execution_count": null,
      "outputs": [
        {
          "data": {
            "text/plain": [
              "0.4302010046628405"
            ]
          },
          "execution_count": 26,
          "metadata": {},
          "output_type": "execute_result"
        }
      ]
    },
    {
      "cell_type": "markdown",
      "metadata": {
        "id": "W7BTe2OxUGyg"
      },
      "source": [
        "Совпадения от пяти до 14го знака после запятой в зависимости от случайности заполнения матрицы Р. Почти идентичны. Считаю это за успех и практическое доказательство теоретического вывода."
      ]
    },
    {
      "cell_type": "markdown",
      "metadata": {
        "id": "bj6VltBiUGyg"
      },
      "source": [
        "        Далее посмотрим на стандартном алгоритме из библиотеки sklearn"
      ]
    },
    {
      "cell_type": "code",
      "metadata": {
        "id": "EAFUNehHUGyg",
        "outputId": "b7ba93b8-75a1-48f5-8120-2a75006fe8fb"
      },
      "source": [
        "r2_original = do_work_and_go_to_rest(LinearRegression(), features, target)\n",
        "r2_original"
      ],
      "execution_count": null,
      "outputs": [
        {
          "data": {
            "text/plain": [
              "0.4302010046633359"
            ]
          },
          "execution_count": 27,
          "metadata": {},
          "output_type": "execute_result"
        }
      ]
    },
    {
      "cell_type": "code",
      "metadata": {
        "id": "AHvNuKUrUGyh",
        "outputId": "be917a05-ce57-40d4-ecc9-c10a62396479"
      },
      "source": [
        "r2_changed = do_work_and_go_to_rest(LinearRegression(), features.dot(get_p(features)), target)\n",
        "r2_changed"
      ],
      "execution_count": null,
      "outputs": [
        {
          "data": {
            "text/plain": [
              "0.4302010046633312"
            ]
          },
          "execution_count": 28,
          "metadata": {},
          "output_type": "execute_result"
        }
      ]
    },
    {
      "cell_type": "markdown",
      "metadata": {
        "id": "Iuoj2j1dUGyh"
      },
      "source": [
        "Тот же вывод:\n",
        "    \n",
        "    Совпадения от пяти до 14го знака после запятой в зависимости от случайности заполнения матрицы Р. Почти идентичны. Считаю это за успех и практическое доказательство теоретического вывода."
      ]
    },
    {
      "cell_type": "markdown",
      "metadata": {
        "id": "yQidDAR2UGyi"
      },
      "source": [
        "                                    ***"
      ]
    },
    {
      "cell_type": "markdown",
      "metadata": {
        "id": "X8m_KSMUUGyi"
      },
      "source": [
        "__Вывод__\n",
        "\n",
        "Опираясь на математику - смогли доказать теоретически и подтвердить практически, что качество модели не меняется (принципиально, диагностически не значимо) при изменении данных, главное, чтобы таргет оставался прежним, но это заложено и в формуле."
      ]
    },
    {
      "cell_type": "code",
      "metadata": {
        "id": "mByGAcqAUGyj"
      },
      "source": [
        ""
      ],
      "execution_count": null,
      "outputs": []
    }
  ]
}